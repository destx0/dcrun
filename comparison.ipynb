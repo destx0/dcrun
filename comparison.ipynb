{
 "cells": [
  {
   "cell_type": "code",
   "execution_count": 1,
   "metadata": {},
   "outputs": [],
   "source": [
    "from importlist import *"
   ]
  },
  {
   "cell_type": "code",
   "execution_count": 2,
   "metadata": {},
   "outputs": [],
   "source": [
    "# Example usage:\n",
    "savefile = \"data.json\"\n",
    "points_count = 100\n",
    "to_plot = False\n",
    "no_centres = 3\n",
    "noise = 0.1\n",
    "dataset_types = [\"circles\", \"moons\", \"blobs\"]\n",
    "dataset_type = dataset_types[2]"
   ]
  },
  {
   "cell_type": "code",
   "execution_count": 3,
   "metadata": {},
   "outputs": [
    {
     "name": "stdout",
     "output_type": "stream",
     "text": [
      "K-MSTree: Total Weight: 13.91, Edge Count: 238, Runtime: 0.0063 seconds\n",
      "K-MST: Total Weight: 13.93, Edge Count: 260, Runtime: 0.0095 seconds\n",
      "Prim's MST: 100 nodes, 99 edges, Total Weight: 13.89, Runtime: 0.0166 seconds\n"
     ]
    }
   ],
   "source": [
    "import time as tm\n",
    "\n",
    "savefile = \"data.json\"\n",
    "points_count = 100\n",
    "to_plot = False\n",
    "no_centres = 3\n",
    "noise = 0.1\n",
    "dataset_types = [\"circles\", \"moons\", \"blobs\"]\n",
    "dataset_type = dataset_types[0]\n",
    "\n",
    "points = generate_dataset(\n",
    "    dataset_type=dataset_type,\n",
    "    points_count=points_count,\n",
    "    noise=noise,\n",
    "    no_centres=no_centres,\n",
    "    to_plot=to_plot,\n",
    ")\n",
    "\n",
    "mst_builder = MST(points)\n",
    "\n",
    "start_time = tm.time()\n",
    "mst_weight, edge_count, final_graph = mst_builder.apply_mst(\n",
    "    algorithm=\"kmistree\", to_plot=to_plot\n",
    ")\n",
    "end_time = tm.time()\n",
    "kmistree_runtime = end_time - start_time\n",
    "print(\n",
    "    f\"K-MSTree: Total Weight: {mst_weight}, Edge Count: {edge_count}, Runtime: {kmistree_runtime:.4f} seconds\"\n",
    ")\n",
    "\n",
    "start_time = tm.time()\n",
    "mst_weight, edge_count, final_graph = mst_builder.apply_mst(\n",
    "    algorithm=\"kmist\", to_plot=to_plot\n",
    ")\n",
    "end_time = tm.time()\n",
    "kmist_runtime = end_time - start_time\n",
    "print(\n",
    "    f\"K-MST: Total Weight: {mst_weight}, Edge Count: {edge_count}, Runtime: {kmist_runtime:.4f} seconds\"\n",
    ")\n",
    "\n",
    "start_time = tm.time()\n",
    "prim_weight = mst_builder.apply_mst(algorithm=\"prim\", to_plot=to_plot)\n",
    "end_time = tm.time()\n",
    "prim_runtime = end_time - start_time\n",
    "print(\n",
    "    f\"Prim's MST: {len(points)} nodes, {len(points) - 1} edges, Total Weight: {prim_weight}, Runtime: {prim_runtime:.4f} seconds\"\n",
    ")"
   ]
  },
  {
   "cell_type": "code",
   "execution_count": null,
   "metadata": {},
   "outputs": [],
   "source": []
  }
 ],
 "metadata": {
  "kernelspec": {
   "display_name": "myenv",
   "language": "python",
   "name": "python3"
  },
  "language_info": {
   "codemirror_mode": {
    "name": "ipython",
    "version": 3
   },
   "file_extension": ".py",
   "mimetype": "text/x-python",
   "name": "python",
   "nbconvert_exporter": "python",
   "pygments_lexer": "ipython3",
   "version": "3.10.10"
  }
 },
 "nbformat": 4,
 "nbformat_minor": 2
}
