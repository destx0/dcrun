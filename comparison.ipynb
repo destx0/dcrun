{
 "cells": [
  {
   "cell_type": "code",
   "execution_count": 1,
   "metadata": {},
   "outputs": [],
   "source": [
    "from importlist import *"
   ]
  },
  {
   "cell_type": "code",
   "execution_count": 2,
   "metadata": {},
   "outputs": [],
   "source": [
    "# Example usage:\n",
    "savefile = \"data.json\"\n",
    "points_count = 100\n",
    "to_plot = False\n",
    "no_centres = 3\n",
    "noise = 0.1\n",
    "dataset_types = [\"circles\", \"moons\", \"blobs\"]\n",
    "dataset_type = dataset_types[2]"
   ]
  },
  {
   "cell_type": "code",
   "execution_count": 3,
   "metadata": {},
   "outputs": [
    {
     "name": "stdout",
     "output_type": "stream",
     "text": [
      "Merging (-4.712142983737645, -9.524507962194953) and (3.265453643430441, -9.259468732397956) with pivot (-3.371813245673291, -8.218176842717106) and (1.9169394645376807, -8.487715623019715)\n",
      "Merging (3.265453643430441, -9.259468732397956) and (-7.256505738806536, 1.9317558864602458) with pivot (2.1975433032807876, -7.810547365135047) and (-6.200667815204298, 0.5230957313660556)\n",
      "K-MSTree: Total Weight: 63.03, Edge Count: 456\n",
      "Merging (-4.712142983737645, -9.524507962194953) and (3.265453643430441, -9.259468732397956) with pivot (-3.371813245673291, -8.218176842717106) and (1.9169394645376807, -8.487715623019715)\n",
      "Merging (3.265453643430441, -9.259468732397956) and (-7.256505738806536, 1.9317558864602458) with pivot (2.1975433032807876, -7.810547365135047) and (-6.200667815204298, 0.5230957313660556)\n",
      "K-MST: Total Weight: 63.04, Edge Count: 279\n",
      "Prim's MST: 100 nodes, 99 edges, Total Weight: 59.29\n"
     ]
    }
   ],
   "source": [
    "points = generate_dataset(\n",
    "    dataset_type=dataset_type,\n",
    "    points_count=points_count,\n",
    "    noise=noise,\n",
    "    no_centres=no_centres,\n",
    "    to_plot=to_plot,\n",
    ")\n",
    "\n",
    "mst_builder = MST(points)\n",
    "\n",
    "mst_weight, edge_count, final_graph = mst_builder.apply_mst(\n",
    "    algorithm=\"kmistree\", to_plot=to_plot\n",
    ")\n",
    "print(f\"K-MSTree: Total Weight: {mst_weight}, Edge Count: {edge_count}\")\n",
    "\n",
    "mst_weight, edge_count, final_graph = mst_builder.apply_mst(\n",
    "    algorithm=\"kmist\", to_plot=to_plot\n",
    ")\n",
    "print(f\"K-MST: Total Weight: {mst_weight}, Edge Count: {edge_count}\")\n",
    "\n",
    "prim_weight = mst_builder.apply_mst(algorithm=\"prim\", to_plot=to_plot)\n",
    "print(\n",
    "    f\"Prim's MST: {len(points)} nodes, {len(points) - 1} edges, Total Weight: {prim_weight}\"\n",
    ")"
   ]
  },
  {
   "cell_type": "code",
   "execution_count": null,
   "metadata": {},
   "outputs": [],
   "source": []
  }
 ],
 "metadata": {
  "kernelspec": {
   "display_name": "myenv",
   "language": "python",
   "name": "python3"
  },
  "language_info": {
   "codemirror_mode": {
    "name": "ipython",
    "version": 3
   },
   "file_extension": ".py",
   "mimetype": "text/x-python",
   "name": "python",
   "nbconvert_exporter": "python",
   "pygments_lexer": "ipython3",
   "version": "3.10.10"
  }
 },
 "nbformat": 4,
 "nbformat_minor": 2
}
