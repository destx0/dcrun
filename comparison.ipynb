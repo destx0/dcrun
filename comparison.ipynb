{
 "cells": [
  {
   "cell_type": "code",
   "execution_count": 5,
   "metadata": {},
   "outputs": [],
   "source": [
    "from importlist import *"
   ]
  },
  {
   "cell_type": "code",
   "execution_count": 6,
   "metadata": {},
   "outputs": [],
   "source": [
    "savefile = \"data.json\"\n",
    "points_count = 100\n",
    "to_plot = False\n",
    "no_centres = 3\n",
    "noise = 0.1\n",
    "dataset_types = [\"circles\", \"moons\", \"blobs\"]\n",
    "dataset_type = dataset_types[0]"
   ]
  },
  {
   "cell_type": "code",
   "execution_count": 7,
   "metadata": {},
   "outputs": [
    {
     "name": "stdout",
     "output_type": "stream",
     "text": [
      "100\n"
     ]
    }
   ],
   "source": [
    "points = generate_dataset(\n",
    "    dataset_type=dataset_type,\n",
    "    points_count=points_count,\n",
    "    noise=noise,\n",
    "    no_centres=no_centres,\n",
    "    to_plot=to_plot,\n",
    ")\n",
    "\n",
    "print(len(points))"
   ]
  },
  {
   "cell_type": "code",
   "execution_count": 8,
   "metadata": {},
   "outputs": [
    {
     "name": "stdout",
     "output_type": "stream",
     "text": [
      "MST Weight: 13.91, Edge Count: 238\n"
     ]
    }
   ],
   "source": [
    "\n",
    "\n",
    "mst_weight, edge_count, final_graph = kmistree(points , to_plot)\n",
    "print(f\"MST Weight: {mst_weight}, Edge Count: {edge_count}\")"
   ]
  }
 ],
 "metadata": {
  "kernelspec": {
   "display_name": "myenv",
   "language": "python",
   "name": "python3"
  },
  "language_info": {
   "codemirror_mode": {
    "name": "ipython",
    "version": 3
   },
   "file_extension": ".py",
   "mimetype": "text/x-python",
   "name": "python",
   "nbconvert_exporter": "python",
   "pygments_lexer": "ipython3",
   "version": "3.10.10"
  }
 },
 "nbformat": 4,
 "nbformat_minor": 2
}
