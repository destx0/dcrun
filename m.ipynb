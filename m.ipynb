{
 "cells": [
  {
   "cell_type": "code",
   "execution_count": 170,
   "metadata": {},
   "outputs": [],
   "source": [
    "import matplotlib.pyplot as plt\n",
    "import networkx as nx\n",
    "import numpy as np\n",
    "from sklearn.datasets import make_blobs\n",
    "import random\n",
    "import json\n",
    "import time\n",
    "from tabulate import tabulate\n",
    "from sklearn.datasets import load_iris\n",
    "from sklearn.mixture import GaussianMixture\n",
    "\n",
    "from kdtree import *\n",
    "from utils import *"
   ]
  },
  {
   "cell_type": "code",
   "execution_count": 171,
   "metadata": {},
   "outputs": [],
   "source": [
    "savefile = \"data.json\"\n",
    "points_count = 50000\n",
    "to_plot = False\n",
    "no_centres = 10"
   ]
  },
  {
   "cell_type": "code",
   "execution_count": 172,
   "metadata": {},
   "outputs": [],
   "source": [
    "from sklearn.datasets import make_blobs\n",
    "import matplotlib.pyplot as plt\n",
    "\n",
    "# Initialize the parameters\n",
    "from sklearn.datasets import make_circles\n",
    "import matplotlib.pyplot as plt\n",
    "\n",
    "# Initialize the parameters\n",
    "noise = 0.05  # Amount of noise\n",
    "\n",
    "# Generate the data\n",
    "X, y = make_circles(n_samples=points_count, noise=noise, factor=0.5, random_state=42)\n",
    "\n",
    "# Convert the data to a list of tuples\n",
    "points = [(x, y) for x, y in X]\n",
    "# points = [(round(x , 1), round(y , 1)) for x, y in X]\n",
    "maxdis = math.ceil(math.log2(points_count))"
   ]
  },
  {
   "cell_type": "code",
   "execution_count": 173,
   "metadata": {},
   "outputs": [],
   "source": [
    "X, Y = make_blobs(n_samples=points_count, centers=no_centres, random_state=42)\n",
    "points = [(x, y) for x, y in X]"
   ]
  },
  {
   "cell_type": "code",
   "execution_count": 174,
   "metadata": {},
   "outputs": [],
   "source": [
    "dcran_start_time = time.time()"
   ]
  },
  {
   "cell_type": "code",
   "execution_count": 175,
   "metadata": {},
   "outputs": [],
   "source": [
    "def build():\n",
    "    tree = KDTree()\n",
    "    tree.root = tree.build(points)\n",
    "\n",
    "    G = nx.Graph()\n",
    "\n",
    "    for point in points:\n",
    "        G.add_node(point , pos = point)\n",
    "\n",
    "    neighbours = {}\n",
    "    maxdis = math.ceil(math.log2(points_count))\n",
    "    for point in points:\n",
    "        neighbours[point] = i_neighbors(tree, point, maxdis)\n",
    "    return  G,  neighbours\n",
    "    "
   ]
  },
  {
   "cell_type": "code",
   "execution_count": 176,
   "metadata": {},
   "outputs": [],
   "source": [
    "def merge_comps(core1 , core2, core_points_map , mst):\n",
    "    pivot2 = min(core_points_map[core2], key=lambda node: euclidean_distance(node, core1))\n",
    "    pivot1 = min(core_points_map[core1], key=lambda node: euclidean_distance(node, pivot2))\n",
    "    mst.add_edge(pivot1, pivot2 , weight = euclidean_distance(pivot1, pivot2))\n",
    "    print(f\"merging {core1} and {core2} with pivot {pivot1} and {pivot2}\")"
   ]
  },
  {
   "cell_type": "code",
   "execution_count": 177,
   "metadata": {},
   "outputs": [],
   "source": [
    "def merge_phase(G):\n",
    "    core_points_map = {}\n",
    "    for component in nx.connected_components(G):\n",
    "        centroid = np.mean([node for node in component], axis=0)\n",
    "        closest_point = min(component, key=lambda node: euclidean_distance(node, centroid))\n",
    "        core_points_map[closest_point] = component\n",
    "\n",
    "    core_points = list(core_points_map.keys())\n",
    "\n",
    "    minc = [float(\"inf\")] * len(core_points[0])\n",
    "    maxc = [float(\"-inf\")] * len(core_points[0])\n",
    "\n",
    "    for point in core_points:\n",
    "        for i in range(len(point)):\n",
    "            minc[i] = min(minc[i], point[i])\n",
    "            maxc[i] = max(maxc[i], point[i])\n",
    "\n",
    "    diff = [maxc[i] - minc[i] for i in range(len(minc))]\n",
    "    min_diff_axis = diff.index(max(diff))\n",
    "\n",
    "    sorted_core_points = sorted(core_points, key=lambda point: point[min_diff_axis])\n",
    "    for core1 , core2 in zip(sorted_core_points, sorted_core_points[1:]):\n",
    "        merge_comps(core1, core2, core_points_map, G)\n",
    "        \n",
    "    \n",
    "    "
   ]
  },
  {
   "cell_type": "code",
   "execution_count": 178,
   "metadata": {},
   "outputs": [],
   "source": [
    "def dcrun():\n",
    "    G, neighbours = build()\n",
    "    print(G.number_of_nodes(), G.number_of_edges())\n",
    "    k = 0\n",
    "    while k < maxdis:\n",
    "        print(\"Connected Components : \", len(list(nx.connected_components(G))))\n",
    "        print(\n",
    "            f\"The graph has {G.number_of_nodes()} nodes and {G.number_of_edges()} edges.\"\n",
    "        )\n",
    "        graphify(\n",
    "            G,\n",
    "            to_plot,\n",
    "            bottom_text=f\"Iteration: {k}, Connected Components: {len(list(nx.connected_components(G)))}\\nNumber of Edges: {G.number_of_edges()}\",\n",
    "        )\n",
    "        if (len(connected_components := list(nx.connected_components(G)))) == 1:\n",
    "            break\n",
    "        for component in connected_components:\n",
    "            for node in component:\n",
    "                wt, pos = neighbours[node][k]\n",
    "                if pos in component:\n",
    "                    continue\n",
    "                G.add_edge(node, pos, weight=wt)\n",
    "        k += 1\n",
    "    else:\n",
    "        print(\"merge phase\")\n",
    "        merge_phase(G)\n",
    "        print(\n",
    "            f\"The graph has {G.number_of_nodes()} nodes and {G.number_of_edges()} edges.\"\n",
    "        )\n",
    "        print(\"Connected Components : \", len(list(nx.connected_components(G))))\n",
    "        graphify(\n",
    "            G,\n",
    "            to_plot,\n",
    "            bottom_text=f\"Merge Phase, Connected Components: {len(list(nx.connected_components(G)))}\\nNumber of Edges: {G.number_of_edges()}\",\n",
    "        )\n",
    "    mst = nx.minimum_spanning_tree(G)\n",
    "    print(mst.number_of_nodes(), mst.number_of_edges())\n",
    "    mst_weight = round(sum(data[\"weight\"] for u, v, data in mst.edges(data=True)), 2)\n",
    "    print(\n",
    "        f\"Minimum Spanning Tree: {mst.number_of_nodes()} nodes, {mst.number_of_edges()} edges, Total Weight: {mst_weight}\"\n",
    "    )\n",
    "\n",
    "    graphify(\n",
    "        mst,\n",
    "        to_plot,\n",
    "        bottom_text=f\"Minimum Spanning Tree: {G.number_of_nodes()} nodes, \\nTotal Weight: {mst_weight}\",\n",
    "    )\n",
    "    return mst_weight, G.number_of_edges()"
   ]
  },
  {
   "cell_type": "code",
   "execution_count": 179,
   "metadata": {},
   "outputs": [
    {
     "name": "stdout",
     "output_type": "stream",
     "text": [
      "50000 0\n",
      "Connected Components :  50000\n",
      "The graph has 50000 nodes and 0 edges.\n",
      "Connected Components :  15472\n",
      "The graph has 50000 nodes and 34528 edges.\n",
      "Connected Components :  2339\n",
      "The graph has 50000 nodes and 53540 edges.\n",
      "Connected Components :  84\n",
      "The graph has 50000 nodes and 59796 edges.\n",
      "Connected Components :  5\n",
      "The graph has 50000 nodes and 60110 edges.\n",
      "Connected Components :  3\n",
      "The graph has 50000 nodes and 60116 edges.\n",
      "Connected Components :  2\n",
      "The graph has 50000 nodes and 60118 edges.\n",
      "Connected Components :  2\n",
      "The graph has 50000 nodes and 60118 edges.\n",
      "Connected Components :  2\n",
      "The graph has 50000 nodes and 60118 edges.\n",
      "Connected Components :  2\n",
      "The graph has 50000 nodes and 60118 edges.\n",
      "Connected Components :  2\n",
      "The graph has 50000 nodes and 60118 edges.\n",
      "Connected Components :  2\n",
      "The graph has 50000 nodes and 60118 edges.\n",
      "Connected Components :  2\n",
      "The graph has 50000 nodes and 60118 edges.\n",
      "Connected Components :  2\n",
      "The graph has 50000 nodes and 60118 edges.\n",
      "Connected Components :  2\n",
      "The graph has 50000 nodes and 60118 edges.\n",
      "Connected Components :  2\n",
      "The graph has 50000 nodes and 60118 edges.\n",
      "merge phase\n",
      "merging (-3.6192290438674934, 1.681475761844445) and (6.644590167442833, -5.727421441480105) with pivot (2.2332742101158565, -3.172998834183396) and (4.189423429715498, -3.3243916680008283)\n",
      "The graph has 50000 nodes and 60119 edges.\n",
      "Connected Components :  1\n",
      "50000 49999\n",
      "Minimum Spanning Tree: 50000 nodes, 49999 edges, Total Weight: 1987.54\n"
     ]
    }
   ],
   "source": [
    "dc_weight, dc_edgecount = dcrun()"
   ]
  },
  {
   "cell_type": "code",
   "execution_count": 180,
   "metadata": {},
   "outputs": [],
   "source": [
    "dcran_end_time = time.time()\n",
    "dcran_elapsed_time = dcran_end_time - dcran_start_time"
   ]
  },
  {
   "cell_type": "code",
   "execution_count": 181,
   "metadata": {},
   "outputs": [],
   "source": [
    "prim_start_time = time.time()"
   ]
  },
  {
   "cell_type": "code",
   "execution_count": 182,
   "metadata": {},
   "outputs": [],
   "source": [
    "# Gst = nx.Graph()\n",
    "\n",
    "# for pointi in points:\n",
    "#     Gst.add_node(pointi, pos=pointi)\n",
    "    \n",
    "# for pointi in points:    \n",
    "#     for pointj in points:\n",
    "#         if pointi != pointj:\n",
    "#             dis = euclidean_distance(pointi, pointj)\n",
    "#             Gst.add_edge(pointi , pointj , weight=dis)"
   ]
  },
  {
   "cell_type": "code",
   "execution_count": 183,
   "metadata": {},
   "outputs": [],
   "source": [
    "# Gst = nx.minimum_spanning_tree(Gst, algorithm=\"prim\", weight=\"weight\")\n",
    "# gst_weight = sum(data[\"weight\"] for u, v, data in Gst.edges(data=True))\n"
   ]
  },
  {
   "cell_type": "code",
   "execution_count": 184,
   "metadata": {},
   "outputs": [],
   "source": [
    "prim_end_time = time.time()\n",
    "prim_elapsed_time = prim_end_time - prim_start_time"
   ]
  },
  {
   "cell_type": "code",
   "execution_count": 185,
   "metadata": {},
   "outputs": [
    {
     "name": "stdout",
     "output_type": "stream",
     "text": [
      "MST Weight:  1964.622610853823\n",
      "time taken by dcran :  789.9790432453156\n"
     ]
    }
   ],
   "source": [
    "import math\n",
    "\n",
    "eprim_start_time = time.time()\n",
    "def calculate_distance(p1, p2):\n",
    "    x1, y1 = p1\n",
    "    x2, y2 = p2\n",
    "    return math.sqrt((x2 - x1) ** 2 + (y2 - y1) ** 2)\n",
    "\n",
    "\n",
    "def prim_mst(points):\n",
    "    n = len(points)\n",
    "    visited = [False] * n\n",
    "    min_cost = [float(\"inf\")] * n\n",
    "    parent = [None] * n\n",
    "\n",
    "    min_cost[0] = 0\n",
    "    parent[0] = -1\n",
    "\n",
    "    for _ in range(n):\n",
    "        min_index = -1\n",
    "        for i in range(n):\n",
    "            if not visited[i] and (\n",
    "                min_index == -1 or min_cost[i] < min_cost[min_index]\n",
    "            ):\n",
    "                min_index = i\n",
    "\n",
    "        visited[min_index] = True\n",
    "\n",
    "        for i in range(n):\n",
    "            if not visited[i]:\n",
    "                distance = calculate_distance(points[min_index], points[i])\n",
    "                if distance < min_cost[i]:\n",
    "                    min_cost[i] = distance\n",
    "                    parent[i] = min_index\n",
    "\n",
    "    mst_edges = []\n",
    "    for i in range(1, n):\n",
    "        mst_edges.append((parent[i], i))\n",
    "\n",
    "    return mst_edges\n",
    "\n",
    "\n",
    "mst = prim_mst(points)\n",
    "eprim_end_time = time.time()\n",
    "eprim_elapsed_time = eprim_end_time - eprim_start_time\n",
    "print(\"MST Weight: \", eprim_wt := sum([calculate_distance(points[u], points[v]) for u, v in mst]))\n",
    "print(\"time taken by dcran : \", eprim_elapsed_time)"
   ]
  },
  {
   "cell_type": "code",
   "execution_count": 186,
   "metadata": {},
   "outputs": [
    {
     "name": "stdout",
     "output_type": "stream",
     "text": [
      "Speedup: 60.44\n"
     ]
    }
   ],
   "source": [
    "speedup = eprim_elapsed_time / dcran_elapsed_time\n",
    "print(f\"Speedup: {speedup:.2f}\")"
   ]
  },
  {
   "cell_type": "code",
   "execution_count": 187,
   "metadata": {},
   "outputs": [
    {
     "name": "stdout",
     "output_type": "stream",
     "text": [
      "Weight Error: 1.166503379303826%\n"
     ]
    }
   ],
   "source": [
    "wt_error = abs(dc_weight - eprim_wt) / eprim_wt * 100\n",
    "print(f\"Weight Error: {wt_error}%\")"
   ]
  },
  {
   "cell_type": "code",
   "execution_count": null,
   "metadata": {},
   "outputs": [],
   "source": []
  },
  {
   "cell_type": "code",
   "execution_count": null,
   "metadata": {},
   "outputs": [],
   "source": []
  },
  {
   "cell_type": "code",
   "execution_count": 188,
   "metadata": {},
   "outputs": [],
   "source": [
    "from sklearn.cluster import KMeans\n",
    "from scipy.sparse.csgraph import minimum_spanning_tree\n",
    "from scipy.spatial.distance import pdist, squareform"
   ]
  },
  {
   "cell_type": "code",
   "execution_count": 189,
   "metadata": {},
   "outputs": [
    {
     "name": "stderr",
     "output_type": "stream",
     "text": [
      "/home/voy/.local/lib/python3.10/site-packages/sklearn/cluster/_kmeans.py:870: FutureWarning: The default value of `n_init` will change from 10 to 'auto' in 1.4. Set the value of `n_init` explicitly to suppress the warning\n",
      "  warnings.warn(\n"
     ]
    },
    {
     "name": "stdout",
     "output_type": "stream",
     "text": [
      "time taken by fast mst :  46.351282596588135\n",
      "Total weight of the MST: 2009.5957220693579\n"
     ]
    }
   ],
   "source": [
    "fmst_start_time = time.time()\n",
    "def euclidean_distance(p1, p2):\n",
    "    return sum((a - b) ** 2 for a, b in zip(p1, p2)) ** 0.5\n",
    "\n",
    "\n",
    "def detect_connecting_edge(cluster1, cluster2):\n",
    "    center1 = [sum(x) / len(cluster1) for x in zip(*cluster1)]\n",
    "    center2 = [sum(x) / len(cluster2) for x in zip(*cluster2)]\n",
    "\n",
    "    min_dist1 = float(\"inf\")\n",
    "    min_point1 = None\n",
    "    for point in cluster1:\n",
    "        dist = euclidean_distance(point, center2)\n",
    "        if dist < min_dist1:\n",
    "            min_dist1 = dist\n",
    "            min_point1 = point\n",
    "\n",
    "    min_dist2 = float(\"inf\")\n",
    "    min_point2 = None\n",
    "    for point in cluster2:\n",
    "        dist = euclidean_distance(point, center1)\n",
    "        if dist < min_dist2:\n",
    "            min_dist2 = dist\n",
    "            min_point2 = point\n",
    "\n",
    "    return min_point1, min_point2\n",
    "\n",
    "\n",
    "def fast_mst(points):\n",
    "    n = len(points)\n",
    "    k = int(n**0.5)\n",
    "\n",
    "    # Divide-and-conquer stage\n",
    "    kmeans = KMeans(n_clusters=k).fit(points)\n",
    "    labels = kmeans.labels_\n",
    "    centers = kmeans.cluster_centers_.tolist()\n",
    "\n",
    "    mst_edges = []\n",
    "    total_weight = 0\n",
    "\n",
    "    for i in range(k):\n",
    "        cluster_points = [points[j] for j in range(n) if labels[j] == i]\n",
    "        pairwise_distances = squareform(pdist(cluster_points))\n",
    "        mst = minimum_spanning_tree(pairwise_distances).toarray().tolist()\n",
    "        edges = [\n",
    "            (u, v)\n",
    "            for u in range(len(cluster_points))\n",
    "            for v in range(u + 1, len(cluster_points))\n",
    "            if mst[u][v] > 0\n",
    "        ]\n",
    "        for u, v in edges:\n",
    "            weight = euclidean_distance(cluster_points[u], cluster_points[v])\n",
    "            mst_edges.append((cluster_points[u], cluster_points[v]))\n",
    "            total_weight += weight\n",
    "\n",
    "    pairwise_distances_centers = squareform(pdist(centers))\n",
    "    mst_centers = minimum_spanning_tree(pairwise_distances_centers).toarray().tolist()\n",
    "    center_edges = [\n",
    "        (i, j) for i in range(k) for j in range(i + 1, k) if mst_centers[i][j] > 0\n",
    "    ]\n",
    "\n",
    "    # Refinement stage\n",
    "    midpoints = []\n",
    "    for i, j in center_edges:\n",
    "        cluster1 = [points[m] for m in range(n) if labels[m] == i]\n",
    "        cluster2 = [points[m] for m in range(n) if labels[m] == j]\n",
    "        u, v = detect_connecting_edge(cluster1, cluster2)\n",
    "        mst_edges.append((u, v))\n",
    "        midpoint = [(a + b) / 2 for a, b in zip(u, v)]\n",
    "        midpoints.append(midpoint)\n",
    "        weight = euclidean_distance(u, v)\n",
    "        total_weight += weight\n",
    "\n",
    "    kmeans_refine = KMeans(n_clusters=len(midpoints), init=midpoints, n_init=1).fit(\n",
    "        points\n",
    "    )\n",
    "    labels_refine = kmeans_refine.labels_\n",
    "\n",
    "    for i in range(len(midpoints)):\n",
    "        cluster_points = [points[j] for j in range(n) if labels_refine[j] == i]\n",
    "        pairwise_distances = squareform(pdist(cluster_points))\n",
    "        mst = minimum_spanning_tree(pairwise_distances).toarray().tolist()\n",
    "        edges = [\n",
    "            (u, v)\n",
    "            for u in range(len(cluster_points))\n",
    "            for v in range(u + 1, len(cluster_points))\n",
    "            if mst[u][v] > 0\n",
    "        ]\n",
    "        for u, v in edges:\n",
    "            weight = euclidean_distance(cluster_points[u], cluster_points[v])\n",
    "            mst_edges.append((cluster_points[u], cluster_points[v]))\n",
    "            total_weight += weight\n",
    "\n",
    "    return mst_edges, total_weight\n",
    "\n",
    "\n",
    "# Example usage\n",
    "\n",
    "\n",
    "mst_edges, fmst_weight = fast_mst(points)\n",
    "fmst_end_time = time.time()\n",
    "fmst_edgecount = len(mst_edges)\n",
    "fmst_elapsed_time = fmst_end_time - fmst_start_time\n",
    "print(\"time taken by fast mst : \", fmst_elapsed_time)\n",
    "\n",
    "print(\"Total weight of the MST:\", fmst_weight)"
   ]
  },
  {
   "cell_type": "code",
   "execution_count": 190,
   "metadata": {},
   "outputs": [
    {
     "name": "stdout",
     "output_type": "stream",
     "text": [
      "[[10000, 10, 877.65, 891.7851946441831, 865.3329904388637, 12089, 9999, 3.0568815123879474, 1.4233837952820403, 2.181704044342041, 8.06056261062622, 30.508898973464966, 3.7849589969371564, 13.983976906760445], [1000, 10, 272.62, 269.3821303743565, 258.81913472345116, 1203, 999, 4.081226707674429, 5.33224303191304, 0.15179872512817383, 0.24590039253234863, 0.2952311038970947, 1.200612576729647, 1.9448852659850162], [100, 10, 94.84, 97.0053015053769, 92.5713108376204, 119, 99, 4.789810825444807, 2.450747582433088, 0.0512537956237793, 0.045298099517822266, 0.0034923553466796875, 0.07709717148962598, 0.06813847255947231]]\n",
      "[[10000, 10, 877.65, 891.7851946441831, 865.3329904388637, 12089, 9999, 3.0568815123879474, 1.4233837952820403, 2.181704044342041, 8.06056261062622, 30.508898973464966, 3.7849589969371564, 13.983976906760445], [1000, 10, 272.62, 269.3821303743565, 258.81913472345116, 1203, 999, 4.081226707674429, 5.33224303191304, 0.15179872512817383, 0.24590039253234863, 0.2952311038970947, 1.200612576729647, 1.9448852659850162], [100, 10, 94.84, 97.0053015053769, 92.5713108376204, 119, 99, 4.789810825444807, 2.450747582433088, 0.0512537956237793, 0.045298099517822266, 0.0034923553466796875, 0.07709717148962598, 0.06813847255947231]]\n",
      "|   Points |   Centres |   DCRAN Wt |   FMST Wt |   Prim's Wt |   dc Edges |   Prim's Edges |   FMST Acc(%) |   DCRAN Acc(%) |   DCRAN Time (s) |   FMST Time (s) |   Prim's Time (s) |   Prim's Speedup |   DCRAN Speedup |\n",
      "|---------:|----------:|-----------:|----------:|------------:|-----------:|---------------:|--------------:|---------------:|-----------------:|----------------:|------------------:|-----------------:|----------------:|\n",
      "|    10000 |        10 |      877.6 |     891.8 |       865.3 |      12089 |           9999 |          3.06 |           1.42 |             2.18 |            8.06 |             30.51 |             3.78 |           13.98 |\n",
      "|     1000 |        10 |      272.6 |     269.4 |       258.8 |       1203 |            999 |          4.08 |           5.33 |             0.15 |            0.25 |              0.30 |             1.20 |            1.94 |\n",
      "|      100 |        10 |       94.8 |      97.0 |        92.6 |        119 |             99 |          4.79 |           2.45 |             0.05 |            0.05 |              0.00 |             0.08 |            0.07 |\n",
      "|    50000 |        10 |     1987.5 |    2009.6 |      1964.6 |      60119 |          49999 |          2.29 |           1.17 |            13.07 |           46.35 |            789.98 |            17.04 |           60.44 |\n"
     ]
    }
   ],
   "source": [
    "with open(savefile, \"r\") as f:\n",
    "    loaded_data = json.load(f)\n",
    "print(loaded_data)\n",
    "currres = []\n",
    "loaded_data.append(\n",
    "    [\n",
    "        points_count,\n",
    "        no_centres,\n",
    "        dc_weight,\n",
    "        fmst_weight,\n",
    "        eprim_wt,\n",
    "        dc_edgecount,\n",
    "        fmst_edgecount,\n",
    "        abs(fmst_weight - eprim_wt) / eprim_wt * 100,\n",
    "        abs(dc_weight - eprim_wt) / eprim_wt * 100,\n",
    "        dcran_elapsed_time,\n",
    "        fmst_elapsed_time,\n",
    "        eprim_elapsed_time,\n",
    "        eprim_elapsed_time / fmst_elapsed_time,\n",
    "        eprim_elapsed_time / dcran_elapsed_time,\n",
    "    ]\n",
    ")\n",
    "# Save the updated dictionary back to the JSON file\n",
    "with open(savefile, \"r\") as f:\n",
    "    loaded_data = json.load(f)\n",
    "print(loaded_data)\n",
    "currres = []\n",
    "loaded_data.append(\n",
    "    [\n",
    "        points_count,\n",
    "        no_centres,\n",
    "        dc_weight,\n",
    "        fmst_weight,\n",
    "        eprim_wt,\n",
    "        dc_edgecount,\n",
    "        len(mst),\n",
    "        abs(fmst_weight - eprim_wt) / eprim_wt * 100,\n",
    "        abs(dc_weight - eprim_wt) / eprim_wt * 100,\n",
    "        dcran_elapsed_time,\n",
    "        fmst_elapsed_time,\n",
    "        eprim_elapsed_time,\n",
    "        eprim_elapsed_time / fmst_elapsed_time,\n",
    "        eprim_elapsed_time / dcran_elapsed_time,\n",
    "    ]\n",
    ")\n",
    "# Save the updated dictionary back to the JSON file\n",
    "with open(savefile, \"w\") as f:\n",
    "    json.dump(loaded_data, f)\n",
    "\n",
    "headers = [\n",
    "    \"Points\",\n",
    "    \"Centres\",\n",
    "    \"DCRAN Wt\",\n",
    "    \"FMST Wt\",\n",
    "    \"Prim's Wt\",\n",
    "    \"dc Edges\",\n",
    "    \"Prim's Edges\",\n",
    "    \"FMST Acc(%)\",\n",
    "    \"DCRAN Acc(%)\",\n",
    "    \"DCRAN Time (s)\",\n",
    "    \"FMST Time (s)\",\n",
    "    \"Prim's Time (s)\",\n",
    "    \"Prim's Speedup\",\n",
    "    \"DCRAN Speedup\",\n",
    "]\n",
    "# Format the data as a table using tabulate\n",
    "table_str = tabulate(\n",
    "    loaded_data[-15:],\n",
    "    headers,\n",
    "    tablefmt=\"pipe\",\n",
    "    floatfmt=(\n",
    "        \".0f\",\n",
    "        \".0f\",\n",
    "        \".1f\",\n",
    "        \".1f\",\n",
    "        \".1f\",\n",
    "        \".0f\",\n",
    "        \".0f\",\n",
    "        \".2f\",\n",
    "        \".2f\",\n",
    "        \".2f\",\n",
    "        \".2f\",\n",
    "        \".2f\",\n",
    "        \".2f\",\n",
    "        \".2f\",\n",
    "    ),\n",
    ")\n",
    "print(table_str)"
   ]
  },
  {
   "cell_type": "code",
   "execution_count": null,
   "metadata": {},
   "outputs": [],
   "source": []
  }
 ],
 "metadata": {
  "kernelspec": {
   "display_name": "myenv",
   "language": "python",
   "name": "python3"
  },
  "language_info": {
   "codemirror_mode": {
    "name": "ipython",
    "version": 3
   },
   "file_extension": ".py",
   "mimetype": "text/x-python",
   "name": "python",
   "nbconvert_exporter": "python",
   "pygments_lexer": "ipython3",
   "version": "3.10.10"
  }
 },
 "nbformat": 4,
 "nbformat_minor": 2
}
