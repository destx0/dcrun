{
 "cells": [
  {
   "cell_type": "code",
   "execution_count": 35,
   "metadata": {},
   "outputs": [],
   "source": [
    "import matplotlib.pyplot as plt\n",
    "import networkx as nx\n",
    "import numpy as np\n",
    "from sklearn.datasets import make_blobs\n",
    "import random\n",
    "import json\n",
    "import time\n",
    "from tabulate import tabulate\n",
    "from sklearn.datasets import load_iris\n",
    "from sklearn.mixture import GaussianMixture\n",
    "\n",
    "from kdtree import *\n",
    "from utils import *"
   ]
  },
  {
   "cell_type": "code",
   "execution_count": 36,
   "metadata": {},
   "outputs": [],
   "source": [
    "savefile = \"data.json\"\n",
    "points_count = 10000\n",
    "to_plot = False\n",
    "no_centres = 1"
   ]
  },
  {
   "cell_type": "code",
   "execution_count": 37,
   "metadata": {},
   "outputs": [],
   "source": [
    "from sklearn.datasets import make_blobs\n",
    "import matplotlib.pyplot as plt\n",
    "\n",
    "# Initialize the parameters\n",
    "from sklearn.datasets import make_circles\n",
    "import matplotlib.pyplot as plt\n",
    "\n",
    "# Initialize the parameters\n",
    "noise = 0.05  # Amount of noise\n",
    "\n",
    "# Generate the data\n",
    "X, y = make_circles(n_samples=points_count, noise=noise, factor=0.5, random_state=42)\n",
    "\n",
    "# Convert the data to a list of tuples\n",
    "points = [(x, y) for x, y in X]\n",
    "# points = [(round(x , 1), round(y , 1)) for x, y in X]\n",
    "maxdis = math.ceil(math.log2(points_count))"
   ]
  },
  {
   "cell_type": "code",
   "execution_count": 38,
   "metadata": {},
   "outputs": [],
   "source": [
    "X, Y = make_blobs(n_samples=points_count, centers=no_centres, random_state=42)\n",
    "points = [(x, y) for x, y in X]"
   ]
  },
  {
   "cell_type": "code",
   "execution_count": 39,
   "metadata": {},
   "outputs": [],
   "source": [
    "dcran_start_time = time.time()"
   ]
  },
  {
   "cell_type": "code",
   "execution_count": 40,
   "metadata": {},
   "outputs": [],
   "source": [
    "def build():\n",
    "    tree = KDTree()\n",
    "    tree.root = tree.build(points)\n",
    "\n",
    "    G = nx.Graph()\n",
    "\n",
    "    for point in points:\n",
    "        G.add_node(point , pos = point)\n",
    "\n",
    "    neighbours = {}\n",
    "    maxdis = math.ceil(math.log2(points_count))\n",
    "    for point in points:\n",
    "        neighbours[point] = i_neighbors(tree, point, maxdis)\n",
    "    return  G,  neighbours\n",
    "    "
   ]
  },
  {
   "cell_type": "code",
   "execution_count": 41,
   "metadata": {},
   "outputs": [],
   "source": [
    "def merge_comps(core1 , core2, core_points_map , mst):\n",
    "    pivot2 = min(core_points_map[core2], key=lambda node: euclidean_distance(node, core1))\n",
    "    pivot1 = min(core_points_map[core1], key=lambda node: euclidean_distance(node, pivot2))\n",
    "    mst.add_edge(pivot1, pivot2 , weight = euclidean_distance(pivot1, pivot2))\n",
    "    print(f\"merging {core1} and {core2} with pivot {pivot1} and {pivot2}\")"
   ]
  },
  {
   "cell_type": "code",
   "execution_count": 42,
   "metadata": {},
   "outputs": [],
   "source": [
    "def merge_phase(G):\n",
    "    core_points_map = {}\n",
    "    for component in nx.connected_components(G):\n",
    "        centroid = np.mean([node for node in component], axis=0)\n",
    "        closest_point = min(component, key=lambda node: euclidean_distance(node, centroid))\n",
    "        core_points_map[closest_point] = component\n",
    "\n",
    "    core_points = list(core_points_map.keys())\n",
    "\n",
    "    minc = [float(\"inf\")] * len(core_points[0])\n",
    "    maxc = [float(\"-inf\")] * len(core_points[0])\n",
    "\n",
    "    for point in core_points:\n",
    "        for i in range(len(point)):\n",
    "            minc[i] = min(minc[i], point[i])\n",
    "            maxc[i] = max(maxc[i], point[i])\n",
    "\n",
    "    diff = [maxc[i] - minc[i] for i in range(len(minc))]\n",
    "    min_diff_axis = diff.index(max(diff))\n",
    "\n",
    "    sorted_core_points = sorted(core_points, key=lambda point: point[min_diff_axis])\n",
    "    for core1 , core2 in zip(sorted_core_points, sorted_core_points[1:]):\n",
    "        merge_comps(core1, core2, core_points_map, G)\n",
    "        \n",
    "    \n",
    "    "
   ]
  },
  {
   "cell_type": "code",
   "execution_count": 43,
   "metadata": {},
   "outputs": [],
   "source": [
    "def dcrun():\n",
    "    G,   neighbours = build()\n",
    "    print(G.number_of_nodes() , G.number_of_edges())\n",
    "    k = 0\n",
    "    while ( k   < maxdis) :\n",
    "        print(\"Connected Components : \" , len(list(nx.connected_components(G))))\n",
    "        print(\n",
    "            f\"The graph has {G.number_of_nodes()} nodes and {G.number_of_edges()} edges.\"\n",
    "        )\n",
    "\n",
    "        if(len(connected_components := list(nx.connected_components(G)))) == 1 : break\n",
    "        for component in connected_components:\n",
    "            for node in component:\n",
    "                wt , pos = neighbours[node][k]\n",
    "                if pos in component : continue\n",
    "                G.add_edge(node , pos , weight = wt)\n",
    "        k += 1\n",
    "    else :\n",
    "        print(\"merge phase\")\n",
    "        merge_phase(G)\n",
    "        print(\n",
    "            f\"The graph has {G.number_of_nodes()} nodes and {G.number_of_edges()} edges.\"\n",
    "        )\n",
    "        print(\"Connected Components : \" , len(list(nx.connected_components(G))))\n",
    "    edgecount = G.number_of_edges()\n",
    "    mst = nx.minimum_spanning_tree(G)    \n",
    "    print(mst.number_of_nodes() , mst.number_of_edges())\n",
    "    mst_weight = sum(data[\"weight\"] for u, v, data in mst.edges(data=True)) \n",
    "    print(\n",
    "        f\"Minimum Spanning Tree: {mst.number_of_nodes()} nodes, {mst.number_of_edges()} edges, Total Weight: {mst_weight}\"\n",
    "    )\n",
    "    return mst_weight , edgecount"
   ]
  },
  {
   "cell_type": "code",
   "execution_count": 44,
   "metadata": {},
   "outputs": [
    {
     "name": "stdout",
     "output_type": "stream",
     "text": [
      "10000 0\n",
      "Connected Components :  10000\n",
      "The graph has 10000 nodes and 0 edges.\n",
      "Connected Components :  3077\n",
      "The graph has 10000 nodes and 6923 edges.\n",
      "Connected Components :  465\n",
      "The graph has 10000 nodes and 10753 edges.\n",
      "Connected Components :  22\n",
      "The graph has 10000 nodes and 11976 edges.\n",
      "Connected Components :  3\n",
      "The graph has 10000 nodes and 12048 edges.\n",
      "Connected Components :  3\n",
      "The graph has 10000 nodes and 12048 edges.\n",
      "Connected Components :  3\n",
      "The graph has 10000 nodes and 12048 edges.\n",
      "Connected Components :  3\n",
      "The graph has 10000 nodes and 12048 edges.\n",
      "Connected Components :  3\n",
      "The graph has 10000 nodes and 12048 edges.\n",
      "Connected Components :  3\n",
      "The graph has 10000 nodes and 12048 edges.\n",
      "Connected Components :  3\n",
      "The graph has 10000 nodes and 12048 edges.\n",
      "Connected Components :  3\n",
      "The graph has 10000 nodes and 12048 edges.\n",
      "Connected Components :  3\n",
      "The graph has 10000 nodes and 12048 edges.\n",
      "Connected Components :  3\n",
      "The graph has 10000 nodes and 12048 edges.\n",
      "merge phase\n",
      "merging (-6.86620670576281, -6.893392682234966) and (4.635805999106666, 1.9319100312906716) with pivot (-3.693052279340215, -5.535675685192942) and (2.69831103560788, -0.4117358250098504)\n",
      "merging (4.635805999106666, 1.9319100312906716) and (-5.750464963121823, 7.989898486864032) with pivot (2.871747803521383, 4.965980254001373) and (-0.19453905637924152, 7.147020935606573)\n",
      "The graph has 10000 nodes and 12050 edges.\n",
      "Connected Components :  1\n",
      "10000 9999\n",
      "Minimum Spanning Tree: 10000 nodes, 9999 edges, Total Weight: 640.8\n"
     ]
    }
   ],
   "source": [
    "mst_weight, edgecount = dcrun()"
   ]
  },
  {
   "cell_type": "code",
   "execution_count": 45,
   "metadata": {},
   "outputs": [],
   "source": [
    "dcran_end_time = time.time()\n",
    "dcran_elapsed_time = dcran_end_time - dcran_start_time"
   ]
  },
  {
   "cell_type": "code",
   "execution_count": 46,
   "metadata": {},
   "outputs": [],
   "source": [
    "prim_start_time = time.time()"
   ]
  },
  {
   "cell_type": "code",
   "execution_count": 47,
   "metadata": {},
   "outputs": [],
   "source": [
    "Gst = nx.Graph()\n",
    "\n",
    "for pointi in points:\n",
    "    Gst.add_node(pointi, pos=pointi)\n",
    "    \n",
    "for pointi in points:    \n",
    "    for pointj in points:\n",
    "        if pointi != pointj:\n",
    "            dis = euclidean_distance(pointi, pointj)\n",
    "            Gst.add_edge(pointi , pointj , weight=dis)"
   ]
  },
  {
   "cell_type": "code",
   "execution_count": 48,
   "metadata": {},
   "outputs": [],
   "source": [
    "Gst = nx.minimum_spanning_tree(Gst, algorithm=\"prim\", weight=\"weight\")\n",
    "gst_weight = sum(data[\"weight\"] for u, v, data in Gst.edges(data=True))\n"
   ]
  },
  {
   "cell_type": "code",
   "execution_count": 49,
   "metadata": {},
   "outputs": [],
   "source": [
    "prim_end_time = time.time()\n",
    "prim_elapsed_time = prim_end_time - prim_start_time"
   ]
  },
  {
   "cell_type": "code",
   "execution_count": 50,
   "metadata": {},
   "outputs": [
    {
     "name": "stdout",
     "output_type": "stream",
     "text": [
      "Speedup: 280.25\n"
     ]
    }
   ],
   "source": [
    "speedup = prim_elapsed_time / dcran_elapsed_time\n",
    "print(f\"Speedup: {speedup:.2f}\")"
   ]
  },
  {
   "cell_type": "code",
   "execution_count": 51,
   "metadata": {},
   "outputs": [
    {
     "name": "stdout",
     "output_type": "stream",
     "text": [
      "Weight Error: 1.37%\n"
     ]
    }
   ],
   "source": [
    "wt_error = abs(mst_weight - gst_weight) / gst_weight * 100\n",
    "print(f\"Weight Error: {wt_error}%\")"
   ]
  },
  {
   "cell_type": "code",
   "execution_count": null,
   "metadata": {},
   "outputs": [],
   "source": [
    "with open(savefile, \"r\") as f:\n",
    "    loaded_data = json.load(f)\n",
    "print(loaded_data)\n",
    "currres = []\n",
    "loaded_data.append(\n",
    "    [\n",
    "        points_count,\n",
    "        no_centres,\n",
    "        mst_weight,\n",
    "        gst_weight,\n",
    "        edgecount,\n",
    "        wt_error,\n",
    "        dcran_elapsed_time,\n",
    "        prim_elapsed_time,\n",
    "        speedup,\n",
    "    ]\n",
    ")\n",
    "\n",
    "# Save the updated dictionary back to the JSON file\n",
    "with open(savefile, \"w\") as f:\n",
    "    json.dump(loaded_data, f)"
   ]
  },
  {
   "cell_type": "code",
   "execution_count": null,
   "metadata": {},
   "outputs": [],
   "source": [
    "headers = [\n",
    "    \"Points\",\n",
    "    \"Centres\",\n",
    "    \"DCRAN Wt\",\n",
    "    \"prims Wt\",\n",
    "    \"Edge count\",\n",
    "    \"Acc(%)\",\n",
    "    \"DCRAN Time (s)\",\n",
    "    \"STMST Time (s)\",\n",
    "    \"Speedup\",\n",
    "]\n",
    "\n",
    "# Format the data as a table using tabulate\n",
    "table_str = tabulate(\n",
    "    loaded_data[-15:],\n",
    "    headers,\n",
    "    tablefmt=\"pipe\",\n",
    "    floatfmt=(\".0f\", \".0f\", \".1f\", \".1f\", \".0f\", \".2f\", \".2f\", \".2f\", \".2f\"),\n",
    ")\n",
    "print(table_str)"
   ]
  }
 ],
 "metadata": {
  "kernelspec": {
   "display_name": "myenv",
   "language": "python",
   "name": "python3"
  },
  "language_info": {
   "codemirror_mode": {
    "name": "ipython",
    "version": 3
   },
   "file_extension": ".py",
   "mimetype": "text/x-python",
   "name": "python",
   "nbconvert_exporter": "python",
   "pygments_lexer": "ipython3",
   "version": "3.10.10"
  }
 },
 "nbformat": 4,
 "nbformat_minor": 2
}
